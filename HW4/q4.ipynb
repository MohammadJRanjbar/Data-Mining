{
  "nbformat": 4,
  "nbformat_minor": 0,
  "metadata": {
    "colab": {
      "name": "NLP.ipynb",
      "provenance": [],
      "collapsed_sections": []
    },
    "kernelspec": {
      "name": "python3",
      "display_name": "Python 3"
    }
  },
  "cells": [
    {
      "cell_type": "code",
      "metadata": {
        "colab": {
          "base_uri": "https://localhost:8080/"
        },
        "id": "0yB8n-JM2pjz",
        "outputId": "42c7aa67-e597-40b3-c406-859ec2f929f0"
      },
      "source": [
        "!wget https://nlp.stanford.edu/data/glove.6B.zip"
      ],
      "execution_count": null,
      "outputs": [
        {
          "output_type": "stream",
          "text": [
            "--2021-02-06 20:47:58--  https://nlp.stanford.edu/data/glove.6B.zip\n",
            "Resolving nlp.stanford.edu (nlp.stanford.edu)... 171.64.67.140\n",
            "Connecting to nlp.stanford.edu (nlp.stanford.edu)|171.64.67.140|:443... connected.\n",
            "HTTP request sent, awaiting response... 301 Moved Permanently\n",
            "Location: http://downloads.cs.stanford.edu/nlp/data/glove.6B.zip [following]\n",
            "--2021-02-06 20:47:59--  http://downloads.cs.stanford.edu/nlp/data/glove.6B.zip\n",
            "Resolving downloads.cs.stanford.edu (downloads.cs.stanford.edu)... 171.64.64.22\n",
            "Connecting to downloads.cs.stanford.edu (downloads.cs.stanford.edu)|171.64.64.22|:80... connected.\n",
            "HTTP request sent, awaiting response... 200 OK\n",
            "Length: 862182613 (822M) [application/zip]\n",
            "Saving to: ‘glove.6B.zip’\n",
            "\n",
            "glove.6B.zip         60%[===========>        ] 500.61M  1.99MB/s    eta 2m 34s "
          ],
          "name": "stdout"
        }
      ]
    },
    {
      "cell_type": "code",
      "metadata": {
        "colab": {
          "base_uri": "https://localhost:8080/"
        },
        "id": "SbRecmPTYuL2",
        "outputId": "0f982b4d-7e6e-4663-8cf6-23d494cab744"
      },
      "source": [
        "from google.colab import drive\r\n",
        "drive.mount('/content/gdrive')"
      ],
      "execution_count": null,
      "outputs": [
        {
          "output_type": "stream",
          "text": [
            "Drive already mounted at /content/gdrive; to attempt to forcibly remount, call drive.mount(\"/content/gdrive\", force_remount=True).\n"
          ],
          "name": "stdout"
        }
      ]
    },
    {
      "cell_type": "code",
      "metadata": {
        "colab": {
          "base_uri": "https://localhost:8080/"
        },
        "id": "CN2L6XvtYvr2",
        "outputId": "8f701ff3-e3ce-4d95-ad13-000b862230c9"
      },
      "source": [
        "cd gdrive/MyDrive/Colab Notebooks"
      ],
      "execution_count": null,
      "outputs": [
        {
          "output_type": "stream",
          "text": [
            "/content/gdrive/MyDrive/Colab Notebooks\n"
          ],
          "name": "stdout"
        }
      ]
    },
    {
      "cell_type": "code",
      "metadata": {
        "colab": {
          "base_uri": "https://localhost:8080/"
        },
        "id": "ABlQDpij3ikW",
        "outputId": "31987f47-d990-4774-ded7-750e0422d87a"
      },
      "source": [
        "!unzip glove.6B.zip"
      ],
      "execution_count": null,
      "outputs": [
        {
          "output_type": "stream",
          "text": [
            "Archive:  glove.6B.zip\n",
            "  inflating: glove.6B.50d.txt        \n",
            "  inflating: glove.6B.100d.txt       \n",
            "  inflating: glove.6B.200d.txt       \n",
            "  inflating: glove.6B.300d.txt       \n"
          ],
          "name": "stdout"
        }
      ]
    },
    {
      "cell_type": "code",
      "metadata": {
        "id": "UzElO0-DEhY0"
      },
      "source": [
        "def read_data(file_name):\r\n",
        "    with open(file_name,'r') as f:\r\n",
        "        word_vocab = set() # not using list to avoid duplicate entry\r\n",
        "        word2vector = {}\r\n",
        "        for line in f:\r\n",
        "            line_ = line.strip() #Remove white space\r\n",
        "            words_Vec = line_.split()\r\n",
        "            word_vocab.add(words_Vec[0])\r\n",
        "            word2vector[words_Vec[0]] = np.array(words_Vec[1:],dtype=float)\r\n",
        "    print(\"Total Words in DataSet:\",len(word_vocab))\r\n",
        "    return word_vocab,word2vector"
      ],
      "execution_count": null,
      "outputs": []
    },
    {
      "cell_type": "code",
      "metadata": {
        "colab": {
          "base_uri": "https://localhost:8080/"
        },
        "id": "DV-Fv5ZPEbfm",
        "outputId": "2cf23967-b4ba-4d0d-f64b-1795d0c4a3b9"
      },
      "source": [
        "vocab, w2v = read_data(\"glove.6B.50d.txt\")\r\n"
      ],
      "execution_count": null,
      "outputs": [
        {
          "output_type": "stream",
          "text": [
            "Total Words in DataSet: 400000\n"
          ],
          "name": "stdout"
        }
      ]
    },
    {
      "cell_type": "code",
      "metadata": {
        "id": "TQI8JlSaEXwR"
      },
      "source": [
        "from sklearn.decomposition import PCA\r\n",
        "import matplotlib.pyplot as plt\r\n",
        "from pylab import rcParams\r\n",
        "rcParams['figure.figsize'] = 15, 10"
      ],
      "execution_count": null,
      "outputs": []
    },
    {
      "cell_type": "code",
      "metadata": {
        "id": "5hXASRJlESvk"
      },
      "source": [
        "def find_w4(word1,word2,word3, w2v):\r\n",
        "    \"\"\"\r\n",
        "    \"\"\"\r\n",
        "    word_list = w2v.keys()\r\n",
        "    max_sim = -1000\r\n",
        "    #Make Sure they are lower\r\n",
        "    word1,word2,word3 = word1.lower(),word2.lower(),word3.lower()\r\n",
        "    diff_vec = w2v[word3] - (w2v[word1]-w2v[word2]) #word3 - (word1 - word2)\r\n",
        "    for word in word_list:\r\n",
        "        vec = w2v[word]\r\n",
        "        sim_ = cos_sim(u=diff_vec,v=vec)\r\n",
        "        if sim_ > max_sim:\r\n",
        "            max_sim = sim_\r\n",
        "            word_selected =  word\r\n",
        "            \r\n",
        "    return word_selected"
      ],
      "execution_count": null,
      "outputs": []
    },
    {
      "cell_type": "code",
      "metadata": {
        "id": "BNj27t2uENaM"
      },
      "source": [
        "def return_matrix(random_words,dim =50):\r\n",
        "    word_matrix = np.random.randn(len(random_words),dim)\r\n",
        "    i = 0\r\n",
        "    for word in random_words:\r\n",
        "        word_matrix[i] = w2v[word]\r\n",
        "        i +=1\r\n",
        "    return word_matrix"
      ],
      "execution_count": null,
      "outputs": []
    },
    {
      "cell_type": "code",
      "metadata": {
        "id": "165FKKVnEBGs"
      },
      "source": [
        "random_words = ['baby','school','computer','yard','war','boy','girl','book','programming','red','father','lunch','banana','snake','dog','horse','fish','monkey','mushroom','hitler','iran',\"germany\",'ahmadi','shakeri']\r\n",
        "return_matrix_ = return_matrix(random_words)\r\n",
        "pca_ = PCA(n_components=2)\r\n",
        "viz_data = pca_.fit_transform(return_matrix_) "
      ],
      "execution_count": null,
      "outputs": []
    },
    {
      "cell_type": "code",
      "metadata": {
        "colab": {
          "base_uri": "https://localhost:8080/",
          "height": 639
        },
        "id": "9ewp0W2zEFt7",
        "outputId": "092fccb4-bfd2-40a7-8864-da993077cbd1"
      },
      "source": [
        "plt.scatter(viz_data[:,0],viz_data[:,1],cmap=plt.get_cmap('Spectral'))\r\n",
        "for label,x,y in zip(random_words,viz_data[:,0],viz_data[:,1]):\r\n",
        "    plt.annotate(\r\n",
        "        label,\r\n",
        "        xy=(x,y),\r\n",
        "        xytext=(-14, 14),\r\n",
        "        textcoords='offset points',\r\n",
        "        bbox=dict(boxstyle='round,pad=0.5', fc='yellow', alpha=0.5),\r\n",
        "        arrowprops=dict(arrowstyle = '->', connectionstyle='arc3,rad=0')\r\n",
        "    )\r\n",
        "plt.xlabel('PCA Component 1 ')\r\n",
        "plt.ylabel('PCA Component 2')\r\n",
        "plt.title('PCA representation for Word Embedding')\r\n",
        "plt.xlim(-10,10)\r\n",
        "plt.ylim(-5,6)"
      ],
      "execution_count": null,
      "outputs": [
        {
          "output_type": "execute_result",
          "data": {
            "text/plain": [
              "(-5.0, 6.0)"
            ]
          },
          "metadata": {
            "tags": []
          },
          "execution_count": 78
        },
        {
          "output_type": "display_data",
          "data": {
            "image/png": "[encoded data removed]",
            "text/plain": [
              "<Figure size 1080x720 with 1 Axes>"
            ]
          },
          "metadata": {
            "tags": [],
            "needs_background": "light"
          }
        }
      ]
    }
  ]
}